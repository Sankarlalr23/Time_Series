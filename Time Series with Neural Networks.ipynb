{
 "cells": [
  {
   "cell_type": "markdown",
   "metadata": {},
   "source": [
    "# Time Series with Neural Networks"
   ]
  },
  {
   "cell_type": "code",
   "execution_count": 2,
   "metadata": {},
   "outputs": [],
   "source": [
    "import warnings                         #'do not disturb' mode\n",
    "warnings.filterwarnings('ignore')\n",
    "\n",
    "import numpy as np                      # vectors and matrices\n",
    "import pandas as pd                     # tables and data manipulations\n",
    "import matplotlib.pyplot as plt         # plots\n",
    "import seaborn as sns                   # more plots\n",
    "\n",
    "%matplotlib inline "
   ]
  },
  {
   "cell_type": "code",
   "execution_count": 3,
   "metadata": {},
   "outputs": [],
   "source": [
    "ads = pd.read_csv('ads.csv',index_col = 0)"
   ]
  },
  {
   "cell_type": "markdown",
   "metadata": {},
   "source": [
    "## MAPE error"
   ]
  },
  {
   "cell_type": "code",
   "execution_count": 42,
   "metadata": {},
   "outputs": [],
   "source": [
    "## Accuracy Metrics\n",
    "\n",
    "from sklearn.metrics import r2_score, median_absolute_error, mean_absolute_error, mean_squared_error, mean_squared_log_error\n",
    "\n",
    "def mean_absolute_percentage_error(y_true, y_pred):\n",
    "    return np.mean(np.abs((y_true - y_pred) / y_true)) * 100"
   ]
  },
  {
   "cell_type": "code",
   "execution_count": 5,
   "metadata": {},
   "outputs": [
    {
     "data": {
      "text/html": [
       "<div>\n",
       "<style scoped>\n",
       "    .dataframe tbody tr th:only-of-type {\n",
       "        vertical-align: middle;\n",
       "    }\n",
       "\n",
       "    .dataframe tbody tr th {\n",
       "        vertical-align: top;\n",
       "    }\n",
       "\n",
       "    .dataframe thead th {\n",
       "        text-align: right;\n",
       "    }\n",
       "</style>\n",
       "<table border=\"1\" class=\"dataframe\">\n",
       "  <thead>\n",
       "    <tr style=\"text-align: right;\">\n",
       "      <th></th>\n",
       "      <th>Ads</th>\n",
       "    </tr>\n",
       "    <tr>\n",
       "      <th>Time</th>\n",
       "      <th></th>\n",
       "    </tr>\n",
       "  </thead>\n",
       "  <tbody>\n",
       "    <tr>\n",
       "      <th>2017-09-13T00:00:00</th>\n",
       "      <td>80115</td>\n",
       "    </tr>\n",
       "    <tr>\n",
       "      <th>2017-09-13T01:00:00</th>\n",
       "      <td>79885</td>\n",
       "    </tr>\n",
       "    <tr>\n",
       "      <th>2017-09-13T02:00:00</th>\n",
       "      <td>89325</td>\n",
       "    </tr>\n",
       "    <tr>\n",
       "      <th>2017-09-13T03:00:00</th>\n",
       "      <td>101930</td>\n",
       "    </tr>\n",
       "    <tr>\n",
       "      <th>2017-09-13T04:00:00</th>\n",
       "      <td>121630</td>\n",
       "    </tr>\n",
       "  </tbody>\n",
       "</table>\n",
       "</div>"
      ],
      "text/plain": [
       "                        Ads\n",
       "Time                       \n",
       "2017-09-13T00:00:00   80115\n",
       "2017-09-13T01:00:00   79885\n",
       "2017-09-13T02:00:00   89325\n",
       "2017-09-13T03:00:00  101930\n",
       "2017-09-13T04:00:00  121630"
      ]
     },
     "execution_count": 5,
     "metadata": {},
     "output_type": "execute_result"
    }
   ],
   "source": [
    "ads.head()"
   ]
  },
  {
   "cell_type": "code",
   "execution_count": 6,
   "metadata": {},
   "outputs": [],
   "source": [
    "df = ads"
   ]
  },
  {
   "cell_type": "code",
   "execution_count": 7,
   "metadata": {},
   "outputs": [
    {
     "data": {
      "text/plain": [
       "216"
      ]
     },
     "execution_count": 7,
     "metadata": {},
     "output_type": "execute_result"
    }
   ],
   "source": [
    "len(df)"
   ]
  },
  {
   "cell_type": "code",
   "execution_count": 8,
   "metadata": {},
   "outputs": [
    {
     "data": {
      "text/plain": [
       "168"
      ]
     },
     "execution_count": 8,
     "metadata": {},
     "output_type": "execute_result"
    }
   ],
   "source": [
    "216-48     #we are planning prediction for next days , hence 48 hrs"
   ]
  },
  {
   "cell_type": "code",
   "execution_count": 10,
   "metadata": {},
   "outputs": [],
   "source": [
    "train = df.iloc[:168]\n",
    "test = df.iloc[168:]"
   ]
  },
  {
   "cell_type": "code",
   "execution_count": 11,
   "metadata": {},
   "outputs": [],
   "source": [
    "from sklearn.preprocessing import MinMaxScaler\n",
    "Scaler = MinMaxScaler()\n",
    "Scaler.fit(train)\n",
    "\n",
    "scaled_train = Scaler.transform(train)\n",
    "scaled_test = Scaler.transform(test)"
   ]
  },
  {
   "cell_type": "code",
   "execution_count": 13,
   "metadata": {},
   "outputs": [
    {
     "name": "stdout",
     "output_type": "stream",
     "text": [
      "Collecting keras\n",
      "  Downloading Keras-2.4.3-py2.py3-none-any.whl (36 kB)\n",
      "Requirement already satisfied: scipy>=0.14 in c:\\programdata\\anaconda3\\lib\\site-packages (from keras) (1.5.0)\n",
      "Requirement already satisfied: h5py in c:\\programdata\\anaconda3\\lib\\site-packages (from keras) (2.10.0)\n",
      "Requirement already satisfied: numpy>=1.9.1 in c:\\programdata\\anaconda3\\lib\\site-packages (from keras) (1.18.5)\n",
      "Requirement already satisfied: pyyaml in c:\\programdata\\anaconda3\\lib\\site-packages (from keras) (5.3.1)\n",
      "Requirement already satisfied: six in c:\\programdata\\anaconda3\\lib\\site-packages (from h5py->keras) (1.15.0)\n",
      "Installing collected packages: keras\n",
      "Successfully installed keras-2.4.3\n",
      "Note: you may need to restart the kernel to use updated packages.\n"
     ]
    }
   ],
   "source": [
    "# pip install keras"
   ]
  },
  {
   "cell_type": "code",
   "execution_count": 14,
   "metadata": {},
   "outputs": [
    {
     "name": "stdout",
     "output_type": "stream",
     "text": [
      "Requirement already satisfied: tensorflow in c:\\programdata\\anaconda3\\lib\\site-packages (2.3.1)Note: you may need to restart the kernel to use updated packages.\n",
      "\n",
      "Requirement already satisfied: tensorboard<3,>=2.3.0 in c:\\programdata\\anaconda3\\lib\\site-packages (from tensorflow) (2.4.0)\n",
      "Requirement already satisfied: opt-einsum>=2.3.2 in c:\\programdata\\anaconda3\\lib\\site-packages (from tensorflow) (3.3.0)\n",
      "Requirement already satisfied: termcolor>=1.1.0 in c:\\programdata\\anaconda3\\lib\\site-packages (from tensorflow) (1.1.0)\n",
      "Requirement already satisfied: wrapt>=1.11.1 in c:\\programdata\\anaconda3\\lib\\site-packages (from tensorflow) (1.11.2)\n",
      "Requirement already satisfied: six>=1.12.0 in c:\\programdata\\anaconda3\\lib\\site-packages (from tensorflow) (1.15.0)\n",
      "Requirement already satisfied: h5py<2.11.0,>=2.10.0 in c:\\programdata\\anaconda3\\lib\\site-packages (from tensorflow) (2.10.0)\n",
      "Requirement already satisfied: tensorflow-estimator<2.4.0,>=2.3.0 in c:\\programdata\\anaconda3\\lib\\site-packages (from tensorflow) (2.3.0)\n",
      "Requirement already satisfied: astunparse==1.6.3 in c:\\programdata\\anaconda3\\lib\\site-packages (from tensorflow) (1.6.3)\n",
      "Requirement already satisfied: grpcio>=1.8.6 in c:\\programdata\\anaconda3\\lib\\site-packages (from tensorflow) (1.33.2)\n",
      "Requirement already satisfied: google-pasta>=0.1.8 in c:\\programdata\\anaconda3\\lib\\site-packages (from tensorflow) (0.2.0)\n",
      "Requirement already satisfied: absl-py>=0.7.0 in c:\\programdata\\anaconda3\\lib\\site-packages (from tensorflow) (0.11.0)\n",
      "Requirement already satisfied: keras-preprocessing<1.2,>=1.1.1 in c:\\programdata\\anaconda3\\lib\\site-packages (from tensorflow) (1.1.2)\n",
      "Requirement already satisfied: wheel>=0.26 in c:\\programdata\\anaconda3\\lib\\site-packages (from tensorflow) (0.34.2)\n",
      "Requirement already satisfied: protobuf>=3.9.2 in c:\\programdata\\anaconda3\\lib\\site-packages (from tensorflow) (3.14.0)\n",
      "Requirement already satisfied: numpy<1.19.0,>=1.16.0 in c:\\programdata\\anaconda3\\lib\\site-packages (from tensorflow) (1.18.5)\n",
      "Requirement already satisfied: gast==0.3.3 in c:\\programdata\\anaconda3\\lib\\site-packages (from tensorflow) (0.3.3)\n",
      "Requirement already satisfied: tensorboard-plugin-wit>=1.6.0 in c:\\programdata\\anaconda3\\lib\\site-packages (from tensorboard<3,>=2.3.0->tensorflow) (1.7.0)\n",
      "Requirement already satisfied: werkzeug>=0.11.15 in c:\\programdata\\anaconda3\\lib\\site-packages (from tensorboard<3,>=2.3.0->tensorflow) (1.0.1)\n",
      "Requirement already satisfied: google-auth-oauthlib<0.5,>=0.4.1 in c:\\programdata\\anaconda3\\lib\\site-packages (from tensorboard<3,>=2.3.0->tensorflow) (0.4.2)\n",
      "Requirement already satisfied: google-auth<2,>=1.6.3 in c:\\programdata\\anaconda3\\lib\\site-packages (from tensorboard<3,>=2.3.0->tensorflow) (1.23.0)\n",
      "Requirement already satisfied: setuptools>=41.0.0 in c:\\programdata\\anaconda3\\lib\\site-packages (from tensorboard<3,>=2.3.0->tensorflow) (49.2.0.post20200714)\n",
      "Requirement already satisfied: requests<3,>=2.21.0 in c:\\programdata\\anaconda3\\lib\\site-packages (from tensorboard<3,>=2.3.0->tensorflow) (2.24.0)\n",
      "Requirement already satisfied: markdown>=2.6.8 in c:\\programdata\\anaconda3\\lib\\site-packages (from tensorboard<3,>=2.3.0->tensorflow) (3.3.3)\n",
      "Requirement already satisfied: requests-oauthlib>=0.7.0 in c:\\programdata\\anaconda3\\lib\\site-packages (from google-auth-oauthlib<0.5,>=0.4.1->tensorboard<3,>=2.3.0->tensorflow) (1.3.0)\n",
      "Requirement already satisfied: pyasn1-modules>=0.2.1 in c:\\programdata\\anaconda3\\lib\\site-packages (from google-auth<2,>=1.6.3->tensorboard<3,>=2.3.0->tensorflow) (0.2.8)\n",
      "Requirement already satisfied: cachetools<5.0,>=2.0.0 in c:\\programdata\\anaconda3\\lib\\site-packages (from google-auth<2,>=1.6.3->tensorboard<3,>=2.3.0->tensorflow) (4.1.1)\n",
      "Requirement already satisfied: rsa<5,>=3.1.4; python_version >= \"3.5\" in c:\\programdata\\anaconda3\\lib\\site-packages (from google-auth<2,>=1.6.3->tensorboard<3,>=2.3.0->tensorflow) (4.6)\n",
      "Requirement already satisfied: certifi>=2017.4.17 in c:\\programdata\\anaconda3\\lib\\site-packages (from requests<3,>=2.21.0->tensorboard<3,>=2.3.0->tensorflow) (2020.6.20)\n",
      "Requirement already satisfied: chardet<4,>=3.0.2 in c:\\programdata\\anaconda3\\lib\\site-packages (from requests<3,>=2.21.0->tensorboard<3,>=2.3.0->tensorflow) (3.0.4)\n",
      "Requirement already satisfied: idna<3,>=2.5 in c:\\programdata\\anaconda3\\lib\\site-packages (from requests<3,>=2.21.0->tensorboard<3,>=2.3.0->tensorflow) (2.10)\n",
      "Requirement already satisfied: urllib3!=1.25.0,!=1.25.1,<1.26,>=1.21.1 in c:\\programdata\\anaconda3\\lib\\site-packages (from requests<3,>=2.21.0->tensorboard<3,>=2.3.0->tensorflow) (1.25.9)\n",
      "Requirement already satisfied: oauthlib>=3.0.0 in c:\\programdata\\anaconda3\\lib\\site-packages (from requests-oauthlib>=0.7.0->google-auth-oauthlib<0.5,>=0.4.1->tensorboard<3,>=2.3.0->tensorflow) (3.1.0)\n",
      "Requirement already satisfied: pyasn1<0.5.0,>=0.4.6 in c:\\programdata\\anaconda3\\lib\\site-packages (from pyasn1-modules>=0.2.1->google-auth<2,>=1.6.3->tensorboard<3,>=2.3.0->tensorflow) (0.4.8)\n"
     ]
    }
   ],
   "source": [
    "# pip install tensorflow"
   ]
  },
  {
   "cell_type": "markdown",
   "metadata": {},
   "source": [
    "## Time Series generator"
   ]
  },
  {
   "cell_type": "code",
   "execution_count": 16,
   "metadata": {},
   "outputs": [],
   "source": [
    "import keras\n",
    "from keras.preprocessing.sequence import TimeseriesGenerator"
   ]
  },
  {
   "cell_type": "code",
   "execution_count": 17,
   "metadata": {},
   "outputs": [],
   "source": [
    "# Define Generator\n",
    "\n",
    "n_input = 24 #how many lagged time series point to predict the next point\n",
    "n_feature = 1  #univariate time series\n",
    "\n",
    "generator = TimeseriesGenerator(scaled_train, scaled_train, length = n_input, batch_size =1)"
   ]
  },
  {
   "cell_type": "code",
   "execution_count": 19,
   "metadata": {},
   "outputs": [
    {
     "data": {
      "text/plain": [
       "array([[0.05717736],\n",
       "       [0.05476215],\n",
       "       [0.15389058],\n",
       "       [0.28625433],\n",
       "       [0.49312192],\n",
       "       [0.43898981],\n",
       "       [0.33419091],\n",
       "       [0.2953376 ],\n",
       "       [0.3505723 ],\n",
       "       [0.4353145 ],\n",
       "       [0.59183031],\n",
       "       [0.78074136],\n",
       "       [0.87073401],\n",
       "       [0.79854038],\n",
       "       [0.78362911],\n",
       "       [0.79208233],\n",
       "       [0.73621758],\n",
       "       [0.79827785],\n",
       "       [0.93636459],\n",
       "       [0.96151423],\n",
       "       [0.68098288],\n",
       "       [0.32789037],\n",
       "       [0.23217473],\n",
       "       [0.08243201],\n",
       "       [0.05728237]])"
      ]
     },
     "execution_count": 19,
     "metadata": {},
     "output_type": "execute_result"
    }
   ],
   "source": [
    "scaled_train[:25]"
   ]
  },
  {
   "cell_type": "code",
   "execution_count": 20,
   "metadata": {},
   "outputs": [
    {
     "data": {
      "text/plain": [
       "144"
      ]
     },
     "execution_count": 20,
     "metadata": {},
     "output_type": "execute_result"
    }
   ],
   "source": [
    "len(generator)    #168 points - first 24 points(not predicted as we require 24 for prediction of 25th) = 144 "
   ]
  },
  {
   "cell_type": "code",
   "execution_count": 23,
   "metadata": {},
   "outputs": [
    {
     "name": "stdout",
     "output_type": "stream",
     "text": [
      "Given the 24 series point: \n",
      "[0.05717736 0.05476215 0.15389058 0.28625433 0.49312192 0.43898981\n",
      " 0.33419091 0.2953376  0.3505723  0.4353145  0.59183031 0.78074136\n",
      " 0.87073401 0.79854038 0.78362911 0.79208233 0.73621758 0.79827785\n",
      " 0.93636459 0.96151423 0.68098288 0.32789037 0.23217473 0.08243201]\n",
      "Predicted the series point: \n",
      " [[0.05728237]]\n"
     ]
    }
   ],
   "source": [
    "# Lets see the first batch (24 inputs and 1 predicted)\n",
    "\n",
    "x,y = generator[0]\n",
    "\n",
    "print(f'Given the {n_input} series point: \\n{x.flatten()}')\n",
    "print(f'Predicted the series point: \\n {y}')"
   ]
  },
  {
   "cell_type": "code",
   "execution_count": 24,
   "metadata": {},
   "outputs": [],
   "source": [
    "from keras.models import Sequential\n",
    "from keras.layers import Dense , LSTM"
   ]
  },
  {
   "cell_type": "markdown",
   "metadata": {},
   "source": [
    "## Model"
   ]
  },
  {
   "cell_type": "code",
   "execution_count": 27,
   "metadata": {},
   "outputs": [],
   "source": [
    "# Define the model\n",
    "\n",
    "model = Sequential()\n",
    "model.add(LSTM(25, activation='relu', input_shape=(n_input, n_feature)))\n",
    "model.add(Dense(1))\n",
    "model.compile(optimizer = 'adam', loss = 'mse')"
   ]
  },
  {
   "cell_type": "code",
   "execution_count": 28,
   "metadata": {},
   "outputs": [
    {
     "name": "stdout",
     "output_type": "stream",
     "text": [
      "Model: \"sequential_1\"\n",
      "_________________________________________________________________\n",
      "Layer (type)                 Output Shape              Param #   \n",
      "=================================================================\n",
      "lstm (LSTM)                  (None, 25)                2700      \n",
      "_________________________________________________________________\n",
      "dense (Dense)                (None, 1)                 26        \n",
      "=================================================================\n",
      "Total params: 2,726\n",
      "Trainable params: 2,726\n",
      "Non-trainable params: 0\n",
      "_________________________________________________________________\n"
     ]
    }
   ],
   "source": [
    "model.summary()"
   ]
  },
  {
   "cell_type": "code",
   "execution_count": 30,
   "metadata": {},
   "outputs": [
    {
     "name": "stdout",
     "output_type": "stream",
     "text": [
      "WARNING:tensorflow:From <ipython-input-30-a3356272c98c>:1: Model.fit_generator (from tensorflow.python.keras.engine.training) is deprecated and will be removed in a future version.\n",
      "Instructions for updating:\n",
      "Please use Model.fit, which supports generators.\n",
      "Epoch 1/50\n",
      "144/144 [==============================] - 2s 16ms/step - loss: 0.1300\n",
      "Epoch 2/50\n",
      "144/144 [==============================] - 3s 18ms/step - loss: 0.0748\n",
      "Epoch 3/50\n",
      "144/144 [==============================] - 3s 24ms/step - loss: 0.0542: 0s \n",
      "Epoch 4/50\n",
      "144/144 [==============================] - 3s 23ms/step - loss: 0.0360: 2s - loss - ETA: 1s - loss: -\n",
      "Epoch 5/50\n",
      "144/144 [==============================] - 4s 26ms/step - loss: 0.0242\n",
      "Epoch 6/50\n",
      "144/144 [==============================] - ETA: 0s - loss: 0.0206- - ETA: 0s  - 3s 24ms/step - loss: 0.0206\n",
      "Epoch 7/50\n",
      "144/144 [==============================] - 3s 24ms/step - loss: 0.0265: 1s - loss: 0.01 - ETA: 1s - loss:  - ETA: 1s - loss: 0. - ETA: \n",
      "Epoch 8/50\n",
      "144/144 [==============================] - 4s 30ms/step - loss: 0.0215: 1s \n",
      "Epoch 9/50\n",
      "144/144 [==============================] - 4s 26ms/step - loss: 0.0178\n",
      "Epoch 10/50\n",
      "144/144 [==============================] - 4s 29ms/step - loss: 0.0208\n",
      "Epoch 11/50\n",
      "144/144 [==============================] - 4s 28ms/step - loss: 0.0172\n",
      "Epoch 12/50\n",
      "144/144 [==============================] - 4s 25ms/step - loss: 0.0163\n",
      "Epoch 13/50\n",
      "144/144 [==============================] - 4s 27ms/step - loss: 0.0146: 3s - ETA: 2s -\n",
      "Epoch 14/50\n",
      "144/144 [==============================] - 3s 23ms/step - loss: 0.0122\n",
      "Epoch 15/50\n",
      "144/144 [==============================] - 3s 20ms/step - loss: 0.0119\n",
      "Epoch 16/50\n",
      "144/144 [==============================] - 2s 17ms/step - loss: 0.0121\n",
      "Epoch 17/50\n",
      "144/144 [==============================] - 2s 17ms/step - loss: 0.0110\n",
      "Epoch 18/50\n",
      "144/144 [==============================] - 3s 21ms/step - loss: 0.0103:\n",
      "Epoch 19/50\n",
      "144/144 [==============================] - 3s 22ms/step - loss: 0.0090\n",
      "Epoch 20/50\n",
      "144/144 [==============================] - 2s 17ms/step - loss: 0.0095\n",
      "Epoch 21/50\n",
      "144/144 [==============================] - 2s 14ms/step - loss: 0.0087\n",
      "Epoch 22/50\n",
      "144/144 [==============================] - 2s 15ms/step - loss: 0.0074TA: 0s - loss:\n",
      "Epoch 23/50\n",
      "144/144 [==============================] - 2s 17ms/step - loss: 0.0087\n",
      "Epoch 24/50\n",
      "144/144 [==============================] - 3s 19ms/step - loss: 0.0083: 0s - \n",
      "Epoch 25/50\n",
      "144/144 [==============================] - 2s 16ms/step - loss: 0.0075\n",
      "Epoch 26/50\n",
      "144/144 [==============================] - 2s 16ms/step - loss: 0.0072\n",
      "Epoch 27/50\n",
      "144/144 [==============================] - 2s 17ms/step - loss: 0.0076\n",
      "Epoch 28/50\n",
      "144/144 [==============================] - 2s 17ms/step - loss: 0.0083\n",
      "Epoch 29/50\n",
      "144/144 [==============================] - 2s 17ms/step - loss: 0.0066: 0s - lo\n",
      "Epoch 30/50\n",
      "144/144 [==============================] - 2s 17ms/step - loss: 0.0074\n",
      "Epoch 31/50\n",
      "144/144 [==============================] - 2s 17ms/step - loss: 0.0072: 0s - loss: 0.007\n",
      "Epoch 32/50\n",
      "144/144 [==============================] - 2s 17ms/step - loss: 0.0068: 0s - loss: \n",
      "Epoch 33/50\n",
      "144/144 [==============================] - 2s 16ms/step - loss: 0.0076\n",
      "Epoch 34/50\n",
      "144/144 [==============================] - 2s 17ms/step - loss: 0.0063\n",
      "Epoch 35/50\n",
      "144/144 [==============================] - 2s 17ms/step - loss: 0.0068\n",
      "Epoch 36/50\n",
      "144/144 [==============================] - 3s 20ms/step - loss: 0.0064\n",
      "Epoch 37/50\n",
      "144/144 [==============================] - 2s 14ms/step - loss: 0.0065:\n",
      "Epoch 38/50\n",
      "144/144 [==============================] - 2s 14ms/step - loss: 0.0063\n",
      "Epoch 39/50\n",
      "144/144 [==============================] - 2s 14ms/step - loss: 0.0067: 0s - los\n",
      "Epoch 40/50\n",
      "144/144 [==============================] - 3s 18ms/step - loss: 0.0061\n",
      "Epoch 41/50\n",
      "144/144 [==============================] - 2s 17ms/step - loss: 0.0059\n",
      "Epoch 42/50\n",
      "144/144 [==============================] - 2s 17ms/step - loss: 0.0060\n",
      "Epoch 43/50\n",
      "144/144 [==============================] - 2s 17ms/step - loss: 0.0059\n",
      "Epoch 44/50\n",
      "144/144 [==============================] - 2s 16ms/step - loss: 0.0064\n",
      "Epoch 45/50\n",
      "144/144 [==============================] - 3s 18ms/step - loss: 0.0068\n",
      "Epoch 46/50\n",
      "144/144 [==============================] - 2s 16ms/step - loss: 0.0057\n",
      "Epoch 47/50\n",
      "144/144 [==============================] - 2s 17ms/step - loss: 0.0056\n",
      "Epoch 48/50\n",
      "144/144 [==============================] - 2s 17ms/step - loss: 0.0063\n",
      "Epoch 49/50\n",
      "144/144 [==============================] - 3s 18ms/step - loss: 0.0061\n",
      "Epoch 50/50\n",
      "144/144 [==============================] - 2s 17ms/step - loss: 0.0063\n"
     ]
    },
    {
     "data": {
      "text/plain": [
       "<tensorflow.python.keras.callbacks.History at 0x2791529fbb0>"
      ]
     },
     "execution_count": 30,
     "metadata": {},
     "output_type": "execute_result"
    }
   ],
   "source": [
    "model.fit_generator(generator, epochs=50)"
   ]
  },
  {
   "cell_type": "code",
   "execution_count": 32,
   "metadata": {},
   "outputs": [
    {
     "data": {
      "text/plain": [
       "[<matplotlib.lines.Line2D at 0x279191b4d30>]"
      ]
     },
     "execution_count": 32,
     "metadata": {},
     "output_type": "execute_result"
    },
    {
     "data": {
      "image/png": "[encoded data removed]",
      "text/plain": [
       "<Figure size 432x288 with 1 Axes>"
      ]
     },
     "metadata": {
      "needs_background": "light"
     },
     "output_type": "display_data"
    }
   ],
   "source": [
    "loss_per_epoch = model.history.history['loss']\n",
    "\n",
    "plt.plot(range(len(loss_per_epoch)),loss_per_epoch)"
   ]
  },
  {
   "cell_type": "code",
   "execution_count": 33,
   "metadata": {},
   "outputs": [],
   "source": [
    "test_predictions = []\n",
    "\n",
    "first_eval_batch = scaled_train[-n_input:]\n",
    "current_batch = first_eval_batch.reshape((1,n_input,n_feature))\n",
    "\n",
    "\n",
    "for i in range(len(test)):\n",
    "    \n",
    "#     get predictios 1 time stamp ahead ([0] is for grabbing just the number instead of array)\n",
    "    current_pred = model.predict(current_batch)[0]\n",
    "    \n",
    "#     store predictions\n",
    "    test_predictions.append(current_pred)\n",
    "    \n",
    "#     update batch to include prediction and drop first value\n",
    "    current_batch = np.append(current_batch[:,1:,:],[[current_pred]],axis=1)"
   ]
  },
  {
   "cell_type": "code",
   "execution_count": 34,
   "metadata": {},
   "outputs": [
    {
     "data": {
      "text/plain": [
       "[array([0.01319247], dtype=float32),\n",
       " array([0.02459866], dtype=float32),\n",
       " array([0.07659328], dtype=float32),\n",
       " array([0.17054978], dtype=float32),\n",
       " array([0.25310194], dtype=float32),\n",
       " array([0.29224816], dtype=float32),\n",
       " array([0.30712706], dtype=float32),\n",
       " array([0.32331437], dtype=float32),\n",
       " array([0.36208284], dtype=float32),\n",
       " array([0.42990738], dtype=float32),\n",
       " array([0.5074854], dtype=float32),\n",
       " array([0.57577443], dtype=float32),\n",
       " array([0.62684965], dtype=float32),\n",
       " array([0.6622022], dtype=float32),\n",
       " array([0.6931706], dtype=float32),\n",
       " array([0.72614145], dtype=float32),\n",
       " array([0.7660582], dtype=float32),\n",
       " array([0.80751294], dtype=float32),\n",
       " array([0.8331435], dtype=float32),\n",
       " array([0.81652135], dtype=float32),\n",
       " array([0.6217107], dtype=float32),\n",
       " array([0.38572186], dtype=float32),\n",
       " array([0.20993552], dtype=float32),\n",
       " array([0.11577234], dtype=float32),\n",
       " array([0.08573788], dtype=float32),\n",
       " array([0.09636739], dtype=float32),\n",
       " array([0.12570387], dtype=float32),\n",
       " array([0.17347273], dtype=float32),\n",
       " array([0.23271242], dtype=float32),\n",
       " array([0.28765583], dtype=float32),\n",
       " array([0.33453113], dtype=float32),\n",
       " array([0.3772194], dtype=float32),\n",
       " array([0.42231402], dtype=float32),\n",
       " array([0.4724446], dtype=float32),\n",
       " array([0.52356017], dtype=float32),\n",
       " array([0.5710872], dtype=float32),\n",
       " array([0.61213905], dtype=float32),\n",
       " array([0.64808697], dtype=float32),\n",
       " array([0.68190664], dtype=float32),\n",
       " array([0.71601146], dtype=float32),\n",
       " array([0.7503324], dtype=float32),\n",
       " array([0.78095144], dtype=float32),\n",
       " array([0.7970001], dtype=float32),\n",
       " array([0.7801029], dtype=float32),\n",
       " array([0.61753815], dtype=float32),\n",
       " array([0.40429056], dtype=float32),\n",
       " array([0.23255458], dtype=float32),\n",
       " array([0.13635856], dtype=float32)]"
      ]
     },
     "execution_count": 34,
     "metadata": {},
     "output_type": "execute_result"
    }
   ],
   "source": [
    "test_predictions"
   ]
  },
  {
   "cell_type": "code",
   "execution_count": 36,
   "metadata": {},
   "outputs": [],
   "source": [
    "true_predictions = Scaler.inverse_transform(test_predictions)"
   ]
  },
  {
   "cell_type": "code",
   "execution_count": 37,
   "metadata": {},
   "outputs": [],
   "source": [
    "test['predictions'] = true_predictions"
   ]
  },
  {
   "cell_type": "code",
   "execution_count": 38,
   "metadata": {},
   "outputs": [
    {
     "data": {
      "text/plain": [
       "<matplotlib.axes._subplots.AxesSubplot at 0x279197ff610>"
      ]
     },
     "execution_count": 38,
     "metadata": {},
     "output_type": "execute_result"
    },
    {
     "data": {
      "image/png": "[encoded data removed]",
      "text/plain": [
       "<Figure size 864x576 with 1 Axes>"
      ]
     },
     "metadata": {
      "needs_background": "light"
     },
     "output_type": "display_data"
    }
   ],
   "source": [
    "test.plot(figsize=(12,8))"
   ]
  },
  {
   "cell_type": "code",
   "execution_count": 39,
   "metadata": {},
   "outputs": [
    {
     "data": {
      "text/html": [
       "<div>\n",
       "<style scoped>\n",
       "    .dataframe tbody tr th:only-of-type {\n",
       "        vertical-align: middle;\n",
       "    }\n",
       "\n",
       "    .dataframe tbody tr th {\n",
       "        vertical-align: top;\n",
       "    }\n",
       "\n",
       "    .dataframe thead th {\n",
       "        text-align: right;\n",
       "    }\n",
       "</style>\n",
       "<table border=\"1\" class=\"dataframe\">\n",
       "  <thead>\n",
       "    <tr style=\"text-align: right;\">\n",
       "      <th></th>\n",
       "      <th>Ads</th>\n",
       "      <th>predictions</th>\n",
       "    </tr>\n",
       "    <tr>\n",
       "      <th>Time</th>\n",
       "      <th></th>\n",
       "      <th></th>\n",
       "    </tr>\n",
       "  </thead>\n",
       "  <tbody>\n",
       "    <tr>\n",
       "      <th>2017-09-20T00:00:00</th>\n",
       "      <td>79980</td>\n",
       "      <td>75926.319379</td>\n",
       "    </tr>\n",
       "    <tr>\n",
       "      <th>2017-09-20T01:00:00</th>\n",
       "      <td>78110</td>\n",
       "      <td>77012.530209</td>\n",
       "    </tr>\n",
       "    <tr>\n",
       "      <th>2017-09-20T02:00:00</th>\n",
       "      <td>85785</td>\n",
       "      <td>81963.978039</td>\n",
       "    </tr>\n",
       "    <tr>\n",
       "      <th>2017-09-20T03:00:00</th>\n",
       "      <td>100010</td>\n",
       "      <td>90911.455562</td>\n",
       "    </tr>\n",
       "    <tr>\n",
       "      <th>2017-09-20T04:00:00</th>\n",
       "      <td>123880</td>\n",
       "      <td>98772.898215</td>\n",
       "    </tr>\n",
       "    <tr>\n",
       "      <th>2017-09-20T05:00:00</th>\n",
       "      <td>116335</td>\n",
       "      <td>102500.792243</td>\n",
       "    </tr>\n",
       "    <tr>\n",
       "      <th>2017-09-20T06:00:00</th>\n",
       "      <td>104290</td>\n",
       "      <td>103917.709782</td>\n",
       "    </tr>\n",
       "    <tr>\n",
       "      <th>2017-09-20T07:00:00</th>\n",
       "      <td>101440</td>\n",
       "      <td>105459.227334</td>\n",
       "    </tr>\n",
       "    <tr>\n",
       "      <th>2017-09-20T08:00:00</th>\n",
       "      <td>97635</td>\n",
       "      <td>109151.148759</td>\n",
       "    </tr>\n",
       "    <tr>\n",
       "      <th>2017-09-20T09:00:00</th>\n",
       "      <td>108265</td>\n",
       "      <td>115610.079944</td>\n",
       "    </tr>\n",
       "    <tr>\n",
       "      <th>2017-09-20T10:00:00</th>\n",
       "      <td>121250</td>\n",
       "      <td>122997.833662</td>\n",
       "    </tr>\n",
       "    <tr>\n",
       "      <th>2017-09-20T11:00:00</th>\n",
       "      <td>140850</td>\n",
       "      <td>129500.999086</td>\n",
       "    </tr>\n",
       "    <tr>\n",
       "      <th>2017-09-20T12:00:00</th>\n",
       "      <td>138555</td>\n",
       "      <td>134364.892297</td>\n",
       "    </tr>\n",
       "    <tr>\n",
       "      <th>2017-09-20T13:00:00</th>\n",
       "      <td>140990</td>\n",
       "      <td>137731.513547</td>\n",
       "    </tr>\n",
       "    <tr>\n",
       "      <th>2017-09-20T14:00:00</th>\n",
       "      <td>141525</td>\n",
       "      <td>140680.636913</td>\n",
       "    </tr>\n",
       "    <tr>\n",
       "      <th>2017-09-20T15:00:00</th>\n",
       "      <td>141590</td>\n",
       "      <td>143820.450549</td>\n",
       "    </tr>\n",
       "    <tr>\n",
       "      <th>2017-09-20T16:00:00</th>\n",
       "      <td>140610</td>\n",
       "      <td>147621.723011</td>\n",
       "    </tr>\n",
       "    <tr>\n",
       "      <th>2017-09-20T17:00:00</th>\n",
       "      <td>139515</td>\n",
       "      <td>151569.457179</td>\n",
       "    </tr>\n",
       "    <tr>\n",
       "      <th>2017-09-20T18:00:00</th>\n",
       "      <td>146215</td>\n",
       "      <td>154010.252903</td>\n",
       "    </tr>\n",
       "    <tr>\n",
       "      <th>2017-09-20T19:00:00</th>\n",
       "      <td>142425</td>\n",
       "      <td>152427.327834</td>\n",
       "    </tr>\n",
       "    <tr>\n",
       "      <th>2017-09-20T20:00:00</th>\n",
       "      <td>123945</td>\n",
       "      <td>133875.511644</td>\n",
       "    </tr>\n",
       "    <tr>\n",
       "      <th>2017-09-20T21:00:00</th>\n",
       "      <td>101360</td>\n",
       "      <td>111402.292948</td>\n",
       "    </tr>\n",
       "    <tr>\n",
       "      <th>2017-09-20T22:00:00</th>\n",
       "      <td>88170</td>\n",
       "      <td>94662.159200</td>\n",
       "    </tr>\n",
       "    <tr>\n",
       "      <th>2017-09-20T23:00:00</th>\n",
       "      <td>76050</td>\n",
       "      <td>85694.999626</td>\n",
       "    </tr>\n",
       "    <tr>\n",
       "      <th>2017-09-21T00:00:00</th>\n",
       "      <td>70335</td>\n",
       "      <td>82834.818698</td>\n",
       "    </tr>\n",
       "    <tr>\n",
       "      <th>2017-09-21T01:00:00</th>\n",
       "      <td>72150</td>\n",
       "      <td>83847.066451</td>\n",
       "    </tr>\n",
       "    <tr>\n",
       "      <th>2017-09-21T02:00:00</th>\n",
       "      <td>80195</td>\n",
       "      <td>86640.779659</td>\n",
       "    </tr>\n",
       "    <tr>\n",
       "      <th>2017-09-21T03:00:00</th>\n",
       "      <td>94945</td>\n",
       "      <td>91189.808297</td>\n",
       "    </tr>\n",
       "    <tr>\n",
       "      <th>2017-09-21T04:00:00</th>\n",
       "      <td>121910</td>\n",
       "      <td>96831.203551</td>\n",
       "    </tr>\n",
       "    <tr>\n",
       "      <th>2017-09-21T05:00:00</th>\n",
       "      <td>113950</td>\n",
       "      <td>102063.464727</td>\n",
       "    </tr>\n",
       "    <tr>\n",
       "      <th>2017-09-21T06:00:00</th>\n",
       "      <td>106495</td>\n",
       "      <td>106527.399358</td>\n",
       "    </tr>\n",
       "    <tr>\n",
       "      <th>2017-09-21T07:00:00</th>\n",
       "      <td>97290</td>\n",
       "      <td>110592.604295</td>\n",
       "    </tr>\n",
       "    <tr>\n",
       "      <th>2017-09-21T08:00:00</th>\n",
       "      <td>98860</td>\n",
       "      <td>114886.963935</td>\n",
       "    </tr>\n",
       "    <tr>\n",
       "      <th>2017-09-21T09:00:00</th>\n",
       "      <td>105635</td>\n",
       "      <td>119660.898678</td>\n",
       "    </tr>\n",
       "    <tr>\n",
       "      <th>2017-09-21T10:00:00</th>\n",
       "      <td>114380</td>\n",
       "      <td>124528.634642</td>\n",
       "    </tr>\n",
       "    <tr>\n",
       "      <th>2017-09-21T11:00:00</th>\n",
       "      <td>132335</td>\n",
       "      <td>129054.632301</td>\n",
       "    </tr>\n",
       "    <tr>\n",
       "      <th>2017-09-21T12:00:00</th>\n",
       "      <td>146630</td>\n",
       "      <td>132964.001369</td>\n",
       "    </tr>\n",
       "    <tr>\n",
       "      <th>2017-09-21T13:00:00</th>\n",
       "      <td>141995</td>\n",
       "      <td>136387.321685</td>\n",
       "    </tr>\n",
       "    <tr>\n",
       "      <th>2017-09-21T14:00:00</th>\n",
       "      <td>142815</td>\n",
       "      <td>139607.969378</td>\n",
       "    </tr>\n",
       "    <tr>\n",
       "      <th>2017-09-21T15:00:00</th>\n",
       "      <td>146020</td>\n",
       "      <td>142855.771773</td>\n",
       "    </tr>\n",
       "    <tr>\n",
       "      <th>2017-09-21T16:00:00</th>\n",
       "      <td>152120</td>\n",
       "      <td>146124.155890</td>\n",
       "    </tr>\n",
       "    <tr>\n",
       "      <th>2017-09-21T17:00:00</th>\n",
       "      <td>151790</td>\n",
       "      <td>149040.005663</td>\n",
       "    </tr>\n",
       "    <tr>\n",
       "      <th>2017-09-21T18:00:00</th>\n",
       "      <td>155665</td>\n",
       "      <td>150568.320490</td>\n",
       "    </tr>\n",
       "    <tr>\n",
       "      <th>2017-09-21T19:00:00</th>\n",
       "      <td>155890</td>\n",
       "      <td>148959.199987</td>\n",
       "    </tr>\n",
       "    <tr>\n",
       "      <th>2017-09-21T20:00:00</th>\n",
       "      <td>123395</td>\n",
       "      <td>133478.158417</td>\n",
       "    </tr>\n",
       "    <tr>\n",
       "      <th>2017-09-21T21:00:00</th>\n",
       "      <td>103080</td>\n",
       "      <td>113170.589734</td>\n",
       "    </tr>\n",
       "    <tr>\n",
       "      <th>2017-09-21T22:00:00</th>\n",
       "      <td>95155</td>\n",
       "      <td>96816.173105</td>\n",
       "    </tr>\n",
       "    <tr>\n",
       "      <th>2017-09-21T23:00:00</th>\n",
       "      <td>80285</td>\n",
       "      <td>87655.425586</td>\n",
       "    </tr>\n",
       "  </tbody>\n",
       "</table>\n",
       "</div>"
      ],
      "text/plain": [
       "                        Ads    predictions\n",
       "Time                                      \n",
       "2017-09-20T00:00:00   79980   75926.319379\n",
       "2017-09-20T01:00:00   78110   77012.530209\n",
       "2017-09-20T02:00:00   85785   81963.978039\n",
       "2017-09-20T03:00:00  100010   90911.455562\n",
       "2017-09-20T04:00:00  123880   98772.898215\n",
       "2017-09-20T05:00:00  116335  102500.792243\n",
       "2017-09-20T06:00:00  104290  103917.709782\n",
       "2017-09-20T07:00:00  101440  105459.227334\n",
       "2017-09-20T08:00:00   97635  109151.148759\n",
       "2017-09-20T09:00:00  108265  115610.079944\n",
       "2017-09-20T10:00:00  121250  122997.833662\n",
       "2017-09-20T11:00:00  140850  129500.999086\n",
       "2017-09-20T12:00:00  138555  134364.892297\n",
       "2017-09-20T13:00:00  140990  137731.513547\n",
       "2017-09-20T14:00:00  141525  140680.636913\n",
       "2017-09-20T15:00:00  141590  143820.450549\n",
       "2017-09-20T16:00:00  140610  147621.723011\n",
       "2017-09-20T17:00:00  139515  151569.457179\n",
       "2017-09-20T18:00:00  146215  154010.252903\n",
       "2017-09-20T19:00:00  142425  152427.327834\n",
       "2017-09-20T20:00:00  123945  133875.511644\n",
       "2017-09-20T21:00:00  101360  111402.292948\n",
       "2017-09-20T22:00:00   88170   94662.159200\n",
       "2017-09-20T23:00:00   76050   85694.999626\n",
       "2017-09-21T00:00:00   70335   82834.818698\n",
       "2017-09-21T01:00:00   72150   83847.066451\n",
       "2017-09-21T02:00:00   80195   86640.779659\n",
       "2017-09-21T03:00:00   94945   91189.808297\n",
       "2017-09-21T04:00:00  121910   96831.203551\n",
       "2017-09-21T05:00:00  113950  102063.464727\n",
       "2017-09-21T06:00:00  106495  106527.399358\n",
       "2017-09-21T07:00:00   97290  110592.604295\n",
       "2017-09-21T08:00:00   98860  114886.963935\n",
       "2017-09-21T09:00:00  105635  119660.898678\n",
       "2017-09-21T10:00:00  114380  124528.634642\n",
       "2017-09-21T11:00:00  132335  129054.632301\n",
       "2017-09-21T12:00:00  146630  132964.001369\n",
       "2017-09-21T13:00:00  141995  136387.321685\n",
       "2017-09-21T14:00:00  142815  139607.969378\n",
       "2017-09-21T15:00:00  146020  142855.771773\n",
       "2017-09-21T16:00:00  152120  146124.155890\n",
       "2017-09-21T17:00:00  151790  149040.005663\n",
       "2017-09-21T18:00:00  155665  150568.320490\n",
       "2017-09-21T19:00:00  155890  148959.199987\n",
       "2017-09-21T20:00:00  123395  133478.158417\n",
       "2017-09-21T21:00:00  103080  113170.589734\n",
       "2017-09-21T22:00:00   95155   96816.173105\n",
       "2017-09-21T23:00:00   80285   87655.425586"
      ]
     },
     "execution_count": 39,
     "metadata": {},
     "output_type": "execute_result"
    }
   ],
   "source": [
    "test"
   ]
  },
  {
   "cell_type": "code",
   "execution_count": 43,
   "metadata": {},
   "outputs": [
    {
     "data": {
      "text/plain": [
       "7.241697298001816"
      ]
     },
     "execution_count": 43,
     "metadata": {},
     "output_type": "execute_result"
    }
   ],
   "source": [
    "error = mean_absolute_percentage_error(test.Ads,test.predictions)\n",
    "error"
   ]
  },
  {
   "cell_type": "code",
   "execution_count": null,
   "metadata": {},
   "outputs": [],
   "source": [
    "# Increase the nodes in LSTM for more accuracy and better mape "
   ]
  },
  {
   "cell_type": "code",
   "execution_count": null,
   "metadata": {},
   "outputs": [],
   "source": [
    "# Define the model\n",
    "\n",
    "# model = Sequential()\n",
    "# model.add(LSTM(30, activation='relu', input_shape=(n_input, n_feature)))\n",
    "# model.add(Dense(1))\n",
    "# model.compile(optimizer = 'adam', loss = 'mse')"
   ]
  },
  {
   "cell_type": "code",
   "execution_count": null,
   "metadata": {},
   "outputs": [],
   "source": []
  },
  {
   "cell_type": "code",
   "execution_count": null,
   "metadata": {},
   "outputs": [],
   "source": []
  }
 ],
 "metadata": {
  "kernelspec": {
   "display_name": "Python 3",
   "language": "python",
   "name": "python3"
  },
  "language_info": {
   "codemirror_mode": {
    "name": "ipython",
    "version": 3
   },
   "file_extension": ".py",
   "mimetype": "text/x-python",
   "name": "python",
   "nbconvert_exporter": "python",
   "pygments_lexer": "ipython3",
   "version": "3.8.3"
  }
 },
 "nbformat": 4,
 "nbformat_minor": 4
}
